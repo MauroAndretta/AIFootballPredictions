{
 "cells": [
  {
   "cell_type": "markdown",
   "metadata": {},
   "source": [
    "# Model Selection\n",
    "\n",
    "### Overview\n",
    "\n",
    "We explore and choose models for predicting Over2.5 goals. \n",
    "\n",
    "### Environment Setup\n",
    "\n",
    "Create the conda environment using the `aifootballpredictions_notebooks.yml` file in the `conda` folder:\n",
    "\n",
    "```bash\n",
    "conda env create -f conda/aifootballpredictions_notebooks.yml\n",
    "conda activate aifootballpredictions_notebooks\n",
    "```\n",
    "\n",
    "#### Run the notebook on your local GPU\n",
    "\n",
    "Follow the official tensorflow installation guide [here](https://www.tensorflow.org/install/pip#windows-native)."
   ]
  },
  {
   "cell_type": "code",
   "execution_count": 36,
   "metadata": {},
   "outputs": [],
   "source": [
    "# Import the necessary libraries\n",
    "import numpy as np\n",
    "import pandas as pd\n",
    "import os\n",
    "from sklearn.model_selection import train_test_split\n",
    "from sklearn.experimental import enable_halving_search_cv # noqa\n",
    "from sklearn.model_selection import GridSearchCV, cross_val_score, KFold, HalvingGridSearchCV\n",
    "from sklearn.metrics import make_scorer, accuracy_score, precision_score, f1_score, roc_auc_score\n",
    "from sklearn.pipeline import Pipeline\n",
    "import xgboost as xgb\n",
    "import numpy as np\n",
    "import tensorflow as tf\n",
    "from tensorflow.python.client import device_lib\n",
    "from tensorflow.keras.models import Sequential\n",
    "from tensorflow.keras.layers import LSTM, Dense, Dropout, BatchNormalization\n",
    "from tensorflow.keras.optimizers import Adam\n",
    "from sklearn.linear_model import LogisticRegression\n",
    "from sklearn.neighbors import KNeighborsClassifier\n",
    "from sklearn.svm import SVC\n",
    "from sklearn.experimental import enable_hist_gradient_boosting\n",
    "from sklearn.ensemble import RandomForestClassifier, HistGradientBoostingClassifier, VotingClassifier"
   ]
  },
  {
   "cell_type": "markdown",
   "metadata": {},
   "source": [
    "#### GPU checks"
   ]
  },
  {
   "cell_type": "code",
   "execution_count": 2,
   "metadata": {},
   "outputs": [
    {
     "name": "stdout",
     "output_type": "stream",
     "text": [
      "[name: \"/device:CPU:0\"\n",
      "device_type: \"CPU\"\n",
      "memory_limit: 268435456\n",
      "locality {\n",
      "}\n",
      "incarnation: 905076402564013371\n",
      "xla_global_id: -1\n",
      ", name: \"/device:GPU:0\"\n",
      "device_type: \"GPU\"\n",
      "memory_limit: 1734606848\n",
      "locality {\n",
      "  bus_id: 1\n",
      "  links {\n",
      "  }\n",
      "}\n",
      "incarnation: 11367158361600899005\n",
      "physical_device_desc: \"device: 0, name: NVIDIA GeForce RTX 3050 Laptop GPU, pci bus id: 0000:01:00.0, compute capability: 8.6\"\n",
      "xla_global_id: 416903419\n",
      "]\n"
     ]
    }
   ],
   "source": [
    "# Check the available devices\n",
    "print(device_lib.list_local_devices())"
   ]
  },
  {
   "cell_type": "code",
   "execution_count": 3,
   "metadata": {},
   "outputs": [
    {
     "data": {
      "text/plain": [
       "True"
      ]
     },
     "execution_count": 3,
     "metadata": {},
     "output_type": "execute_result"
    }
   ],
   "source": [
    "# Check if TensorFlow is built with CUDA support\n",
    "tf.test.is_built_with_cuda()"
   ]
  },
  {
   "cell_type": "code",
   "execution_count": 4,
   "metadata": {},
   "outputs": [
    {
     "name": "stdout",
     "output_type": "stream",
     "text": [
      "Num GPUs Available:  1\n"
     ]
    }
   ],
   "source": [
    "# Check the available GPUs\n",
    "print(\"Num GPUs Available: \", len(tf.config.list_physical_devices('GPU')))"
   ]
  },
  {
   "cell_type": "code",
   "execution_count": 5,
   "metadata": {},
   "outputs": [
    {
     "name": "stdout",
     "output_type": "stream",
     "text": [
      "[PhysicalDevice(name='/physical_device:GPU:0', device_type='GPU')]\n"
     ]
    }
   ],
   "source": [
    "print(tf.config.list_physical_devices('GPU'))"
   ]
  },
  {
   "cell_type": "markdown",
   "metadata": {},
   "source": [
    "#### Model Selection"
   ]
  },
  {
   "cell_type": "code",
   "execution_count": 6,
   "metadata": {},
   "outputs": [],
   "source": [
    "# read the data\n",
    "uk_data = pd.read_csv('../data/processed/E0_merged_preprocessed.csv')"
   ]
  },
  {
   "cell_type": "code",
   "execution_count": 7,
   "metadata": {},
   "outputs": [
    {
     "data": {
      "text/html": [
       "<div>\n",
       "<style scoped>\n",
       "    .dataframe tbody tr th:only-of-type {\n",
       "        vertical-align: middle;\n",
       "    }\n",
       "\n",
       "    .dataframe tbody tr th {\n",
       "        vertical-align: top;\n",
       "    }\n",
       "\n",
       "    .dataframe thead th {\n",
       "        text-align: right;\n",
       "    }\n",
       "</style>\n",
       "<table border=\"1\" class=\"dataframe\">\n",
       "  <thead>\n",
       "    <tr style=\"text-align: right;\">\n",
       "      <th></th>\n",
       "      <th>Date</th>\n",
       "      <th>Div</th>\n",
       "      <th>Time</th>\n",
       "      <th>HomeTeam</th>\n",
       "      <th>AwayTeam</th>\n",
       "      <th>FTR</th>\n",
       "      <th>HTR</th>\n",
       "      <th>Referee</th>\n",
       "      <th>Season</th>\n",
       "      <th>Last5HomeOver2.5Perc</th>\n",
       "      <th>...</th>\n",
       "      <th>HomeOver2.5Perc</th>\n",
       "      <th>AvgLast5AwayGoalsConceded</th>\n",
       "      <th>AvgLast5HomeGoalsScored</th>\n",
       "      <th>AwayOver2.5Perc</th>\n",
       "      <th>AvgLast5HomeGoalsConceded</th>\n",
       "      <th>AvgLast5AwayGoalsScored</th>\n",
       "      <th>B365C&lt;2.5</th>\n",
       "      <th>MaxC&gt;2.5</th>\n",
       "      <th>HR</th>\n",
       "      <th>Over2.5</th>\n",
       "    </tr>\n",
       "  </thead>\n",
       "  <tbody>\n",
       "    <tr>\n",
       "      <th>0</th>\n",
       "      <td>2022-08-05</td>\n",
       "      <td>E0</td>\n",
       "      <td>20:00</td>\n",
       "      <td>Crystal Palace</td>\n",
       "      <td>Arsenal</td>\n",
       "      <td>A</td>\n",
       "      <td>A</td>\n",
       "      <td>A Taylor</td>\n",
       "      <td>2022/2023</td>\n",
       "      <td>0.0</td>\n",
       "      <td>...</td>\n",
       "      <td>42.11</td>\n",
       "      <td>0.00</td>\n",
       "      <td>0.0</td>\n",
       "      <td>47.37</td>\n",
       "      <td>2.00</td>\n",
       "      <td>2.00</td>\n",
       "      <td>1.72</td>\n",
       "      <td>2.19</td>\n",
       "      <td>0</td>\n",
       "      <td>0</td>\n",
       "    </tr>\n",
       "    <tr>\n",
       "      <th>1</th>\n",
       "      <td>2022-08-20</td>\n",
       "      <td>E0</td>\n",
       "      <td>17:30</td>\n",
       "      <td>Bournemouth</td>\n",
       "      <td>Arsenal</td>\n",
       "      <td>A</td>\n",
       "      <td>A</td>\n",
       "      <td>C Pawson</td>\n",
       "      <td>2022/2023</td>\n",
       "      <td>50.0</td>\n",
       "      <td>...</td>\n",
       "      <td>47.37</td>\n",
       "      <td>0.00</td>\n",
       "      <td>1.0</td>\n",
       "      <td>47.37</td>\n",
       "      <td>1.50</td>\n",
       "      <td>2.50</td>\n",
       "      <td>2.10</td>\n",
       "      <td>1.90</td>\n",
       "      <td>0</td>\n",
       "      <td>1</td>\n",
       "    </tr>\n",
       "    <tr>\n",
       "      <th>2</th>\n",
       "      <td>2022-09-04</td>\n",
       "      <td>E0</td>\n",
       "      <td>16:30</td>\n",
       "      <td>Man United</td>\n",
       "      <td>Arsenal</td>\n",
       "      <td>H</td>\n",
       "      <td>H</td>\n",
       "      <td>P Tierney</td>\n",
       "      <td>2022/2023</td>\n",
       "      <td>100.0</td>\n",
       "      <td>...</td>\n",
       "      <td>57.89</td>\n",
       "      <td>1.00</td>\n",
       "      <td>2.0</td>\n",
       "      <td>47.37</td>\n",
       "      <td>1.33</td>\n",
       "      <td>2.00</td>\n",
       "      <td>2.10</td>\n",
       "      <td>1.82</td>\n",
       "      <td>0</td>\n",
       "      <td>1</td>\n",
       "    </tr>\n",
       "    <tr>\n",
       "      <th>3</th>\n",
       "      <td>2022-09-18</td>\n",
       "      <td>E0</td>\n",
       "      <td>12:00</td>\n",
       "      <td>Brentford</td>\n",
       "      <td>Arsenal</td>\n",
       "      <td>A</td>\n",
       "      <td>A</td>\n",
       "      <td>D Coote</td>\n",
       "      <td>2022/2023</td>\n",
       "      <td>75.0</td>\n",
       "      <td>...</td>\n",
       "      <td>47.37</td>\n",
       "      <td>0.75</td>\n",
       "      <td>2.5</td>\n",
       "      <td>47.37</td>\n",
       "      <td>1.50</td>\n",
       "      <td>2.25</td>\n",
       "      <td>2.10</td>\n",
       "      <td>1.81</td>\n",
       "      <td>0</td>\n",
       "      <td>1</td>\n",
       "    </tr>\n",
       "    <tr>\n",
       "      <th>4</th>\n",
       "      <td>2022-10-16</td>\n",
       "      <td>E0</td>\n",
       "      <td>14:00</td>\n",
       "      <td>Leeds</td>\n",
       "      <td>Arsenal</td>\n",
       "      <td>A</td>\n",
       "      <td>A</td>\n",
       "      <td>C Kavanagh</td>\n",
       "      <td>2022/2023</td>\n",
       "      <td>40.0</td>\n",
       "      <td>...</td>\n",
       "      <td>63.16</td>\n",
       "      <td>0.60</td>\n",
       "      <td>1.2</td>\n",
       "      <td>47.37</td>\n",
       "      <td>0.60</td>\n",
       "      <td>2.00</td>\n",
       "      <td>2.30</td>\n",
       "      <td>1.64</td>\n",
       "      <td>0</td>\n",
       "      <td>0</td>\n",
       "    </tr>\n",
       "  </tbody>\n",
       "</table>\n",
       "<p>5 rows × 23 columns</p>\n",
       "</div>"
      ],
      "text/plain": [
       "         Date Div   Time        HomeTeam AwayTeam FTR HTR     Referee  \\\n",
       "0  2022-08-05  E0  20:00  Crystal Palace  Arsenal   A   A    A Taylor   \n",
       "1  2022-08-20  E0  17:30     Bournemouth  Arsenal   A   A    C Pawson   \n",
       "2  2022-09-04  E0  16:30      Man United  Arsenal   H   H   P Tierney   \n",
       "3  2022-09-18  E0  12:00       Brentford  Arsenal   A   A     D Coote   \n",
       "4  2022-10-16  E0  14:00           Leeds  Arsenal   A   A  C Kavanagh   \n",
       "\n",
       "      Season  Last5HomeOver2.5Perc  ...  HomeOver2.5Perc  \\\n",
       "0  2022/2023                   0.0  ...            42.11   \n",
       "1  2022/2023                  50.0  ...            47.37   \n",
       "2  2022/2023                 100.0  ...            57.89   \n",
       "3  2022/2023                  75.0  ...            47.37   \n",
       "4  2022/2023                  40.0  ...            63.16   \n",
       "\n",
       "   AvgLast5AwayGoalsConceded  AvgLast5HomeGoalsScored  AwayOver2.5Perc  \\\n",
       "0                       0.00                      0.0            47.37   \n",
       "1                       0.00                      1.0            47.37   \n",
       "2                       1.00                      2.0            47.37   \n",
       "3                       0.75                      2.5            47.37   \n",
       "4                       0.60                      1.2            47.37   \n",
       "\n",
       "   AvgLast5HomeGoalsConceded  AvgLast5AwayGoalsScored  B365C<2.5  MaxC>2.5  \\\n",
       "0                       2.00                     2.00       1.72      2.19   \n",
       "1                       1.50                     2.50       2.10      1.90   \n",
       "2                       1.33                     2.00       2.10      1.82   \n",
       "3                       1.50                     2.25       2.10      1.81   \n",
       "4                       0.60                     2.00       2.30      1.64   \n",
       "\n",
       "   HR  Over2.5  \n",
       "0   0        0  \n",
       "1   0        1  \n",
       "2   0        1  \n",
       "3   0        1  \n",
       "4   0        0  \n",
       "\n",
       "[5 rows x 23 columns]"
      ]
     },
     "execution_count": 7,
     "metadata": {},
     "output_type": "execute_result"
    }
   ],
   "source": [
    "# show the first 5 rows of the data\n",
    "uk_data.head()"
   ]
  },
  {
   "cell_type": "code",
   "execution_count": 8,
   "metadata": {},
   "outputs": [],
   "source": [
    "# select the target variable\n",
    "y = uk_data['Over2.5'].values\n",
    "\n",
    "# Select only numerical columns for X, excluding 'Date' and the target variable 'Over2.5'\n",
    "numerical_columns = uk_data.select_dtypes(include=['number']).columns\n",
    "X = uk_data[numerical_columns].drop(columns=['Over2.5']).values"
   ]
  },
  {
   "cell_type": "code",
   "execution_count": 9,
   "metadata": {},
   "outputs": [
    {
     "data": {
      "text/plain": [
       "Index(['Last5HomeOver2.5Perc', 'Last5AwayOver2.5Perc', 'HST', 'AST',\n",
       "       'HomeOver2.5Perc', 'AvgLast5AwayGoalsConceded',\n",
       "       'AvgLast5HomeGoalsScored', 'AwayOver2.5Perc',\n",
       "       'AvgLast5HomeGoalsConceded', 'AvgLast5AwayGoalsScored', 'B365C<2.5',\n",
       "       'MaxC>2.5', 'HR', 'Over2.5'],\n",
       "      dtype='object')"
      ]
     },
     "execution_count": 9,
     "metadata": {},
     "output_type": "execute_result"
    }
   ],
   "source": [
    "numerical_columns"
   ]
  },
  {
   "cell_type": "code",
   "execution_count": 10,
   "metadata": {},
   "outputs": [
    {
     "data": {
      "text/plain": [
       "array([0, 1, 1, 1, 0, 0, 0, 0, 1, 0, 0, 1, 0, 1, 1, 1, 1, 0, 0, 0, 0, 1,\n",
       "       1, 0, 0, 1, 0, 0, 1, 1, 1, 1, 1, 0, 1, 0, 1, 0, 0, 1, 1, 0, 0, 1,\n",
       "       1, 1, 0, 0, 1, 0, 0, 0, 1, 0, 0, 0, 0, 1, 1, 1, 0, 0, 0, 1, 1, 1,\n",
       "       1, 0, 1, 1, 1, 0, 1, 0, 0, 1, 1, 1, 1, 0, 1, 0, 1, 0, 1, 0, 0, 0,\n",
       "       1, 1, 0, 1, 0, 0, 0, 1, 1, 1, 1, 1, 1, 0, 1, 1, 1, 0, 1, 1, 0, 1,\n",
       "       1, 0, 1, 1, 1, 1, 0, 0, 1, 1, 1, 1, 0, 0, 0, 0, 0, 1, 0, 0, 0, 0,\n",
       "       1, 1, 0, 0, 1, 0, 1, 1, 0, 1, 1, 0, 0, 1, 1, 1, 1, 1, 0, 1, 1, 0,\n",
       "       1, 1, 0, 1, 1, 1, 1, 1, 0, 1, 0, 1, 1, 1, 1, 1, 1, 1, 1, 1, 1, 0,\n",
       "       1, 1, 0, 0, 0, 1, 1, 1, 1, 1, 0, 0, 1, 0, 0, 0, 1, 1, 1, 1, 0, 0,\n",
       "       0, 1, 1, 1, 1, 1, 1, 0, 1, 0, 1, 0, 1, 1, 1, 0, 0, 1, 0, 0, 1, 0,\n",
       "       0, 0, 1, 0, 1, 1, 0, 1, 1, 0, 0, 1, 1, 1, 1, 0, 1, 1, 1, 1, 0, 1,\n",
       "       1, 1, 1, 1, 1, 0, 1, 0, 0, 1, 1, 0, 0, 0, 1, 0, 0, 0, 1, 1, 0, 0,\n",
       "       0, 1, 0, 0, 1, 0, 1, 0, 1, 0, 1, 1, 1, 1, 0, 1, 0, 0, 0, 0, 1, 1,\n",
       "       0, 0, 1, 0, 0, 0, 1, 0, 0, 0, 1, 1, 1, 0, 0, 1, 1, 0, 1, 1, 1, 0,\n",
       "       0, 1, 0, 0, 1, 1, 0, 0, 0, 0, 1, 0, 1, 0, 1, 0, 1, 1, 1, 1, 1, 1,\n",
       "       1, 0, 0, 0, 0, 1, 1, 1, 0, 0, 0, 1, 0, 1, 1, 0, 0, 0, 1, 1, 1, 1,\n",
       "       0, 1, 1, 1, 1, 1, 0, 0, 1, 1, 0, 1, 1, 0, 1, 1, 0, 1, 0, 1, 0, 0,\n",
       "       1, 1, 1, 1, 1, 1, 1, 1, 1, 1, 1, 1, 0, 0, 1, 0, 1, 1, 0, 0, 1, 1,\n",
       "       0, 1, 0, 1, 1, 0, 1, 0, 1, 1, 1, 1, 1, 0, 0, 0, 1, 0, 1, 1, 1, 1,\n",
       "       0, 1, 1, 1, 1, 0, 0, 0, 1, 0, 1, 1, 1, 0, 1, 1, 0, 1, 1, 1, 1, 0,\n",
       "       1, 1, 1, 0, 1, 1, 0, 1, 1, 0, 1, 1, 0, 1, 1, 1, 0, 1, 0, 1, 0, 0,\n",
       "       1, 0, 1, 0, 1, 0, 1, 0, 1, 1, 1, 0, 0, 1, 1, 1, 1, 0, 1, 1, 0, 1,\n",
       "       1, 1, 1, 0, 0, 1, 1, 0, 1, 0, 1, 0, 0, 1, 1, 0, 1, 1, 0, 0, 1, 0,\n",
       "       1, 0, 0, 1, 0, 0, 0, 0, 1, 0, 1, 0, 1, 0, 0, 0, 1, 1, 1, 1, 1, 0,\n",
       "       1, 1, 1, 0, 0, 0, 1, 1, 0, 1, 1, 1, 0, 0, 0, 0, 1, 1, 1, 1, 1, 1,\n",
       "       0, 0, 1, 1, 1, 1, 0, 1, 1, 0, 1, 1, 1, 1, 1, 0, 0, 1, 1, 1, 0, 0,\n",
       "       1, 1, 0, 0, 1, 1, 0, 0, 0, 1, 1, 1, 0, 1, 1, 1, 0, 1, 1, 0, 0, 0,\n",
       "       1, 1, 1, 0, 1, 1, 0, 1, 0, 0, 1, 0, 1, 1, 1, 1, 0, 1, 1, 0, 1, 0,\n",
       "       0, 0, 1, 1, 0, 1, 1, 0, 1, 1, 0, 1, 1, 0, 0, 1, 0, 0, 1, 1, 1, 1,\n",
       "       0, 0, 0, 0, 1, 1, 1, 1, 1, 0, 0, 1, 0, 0, 1, 1, 1, 1, 0, 1, 0, 1,\n",
       "       0, 1, 1, 1, 1, 1, 0, 1, 1, 0, 1, 1, 1, 0, 1, 1, 1, 1, 1, 0, 1, 0,\n",
       "       1, 1, 0, 0, 1, 0, 0, 0, 0, 1, 1, 0, 0, 0, 1, 0, 1, 1, 1, 0, 1, 0,\n",
       "       1, 1, 1, 1, 1, 1, 1, 1, 0, 1, 1, 0, 1, 1, 1, 1, 1, 1, 1, 0, 0, 0,\n",
       "       1, 1, 0, 1, 0, 1, 1, 0, 0, 1, 0, 1, 1, 0, 1, 0, 0, 1, 0, 1, 1, 1,\n",
       "       1, 1, 1, 0, 1, 1, 1, 0, 0, 1, 1, 0], dtype=int64)"
      ]
     },
     "execution_count": 10,
     "metadata": {},
     "output_type": "execute_result"
    }
   ],
   "source": [
    "y"
   ]
  },
  {
   "cell_type": "code",
   "execution_count": 11,
   "metadata": {},
   "outputs": [
    {
     "data": {
      "text/plain": [
       "array([[  0.  ,   0.  ,   2.  , ...,   1.72,   2.19,   0.  ],\n",
       "       [ 50.  ,  50.  ,   1.  , ...,   2.1 ,   1.9 ,   0.  ],\n",
       "       [100.  ,  66.67,   6.  , ...,   2.1 ,   1.82,   0.  ],\n",
       "       ...,\n",
       "       [ 40.  ,  60.  ,   9.  , ...,   1.95,   2.  ,   0.  ],\n",
       "       [ 80.  ,  60.  ,  12.  , ...,   4.  ,   1.28,   0.  ],\n",
       "       [ 60.  ,  40.  ,  14.  , ...,   5.  ,   1.19,   0.  ]])"
      ]
     },
     "execution_count": 11,
     "metadata": {},
     "output_type": "execute_result"
    }
   ],
   "source": [
    "X"
   ]
  },
  {
   "cell_type": "markdown",
   "metadata": {},
   "source": [
    "### Nested Cross Validation"
   ]
  },
  {
   "cell_type": "code",
   "execution_count": 13,
   "metadata": {},
   "outputs": [],
   "source": [
    "def create_dnn_model(input_dim: int, dropout_rate: float = 0.5) -> tf.keras.Model:\n",
    "    \"\"\"\n",
    "    Creates a Deep Neural Network (DNN) model for binary classification.\n",
    "\n",
    "    Parameters:\n",
    "    ----------\n",
    "    input_dim : int\n",
    "        The number of input features (dimensions).\n",
    "    dropout_rate : float, optional\n",
    "        The dropout rate to be used in Dropout layers to prevent overfitting (default is 0.5).\n",
    "\n",
    "    Returns:\n",
    "    -------\n",
    "    tf.keras.Model\n",
    "        A compiled DNN model ready for training.\n",
    "    \"\"\"\n",
    "    model = Sequential()\n",
    "\n",
    "    # Input layer\n",
    "    model.add(Dense(128, activation='relu', input_dim=input_dim))\n",
    "    model.add(BatchNormalization())\n",
    "    model.add(Dropout(dropout_rate))\n",
    "\n",
    "    # Hidden layers\n",
    "    model.add(Dense(64, activation='relu'))\n",
    "    model.add(BatchNormalization())\n",
    "    model.add(Dropout(dropout_rate))\n",
    "\n",
    "    model.add(Dense(32, activation='relu'))\n",
    "    model.add(BatchNormalization())\n",
    "    model.add(Dropout(dropout_rate))\n",
    "\n",
    "    # Output layer\n",
    "    model.add(Dense(1, activation='sigmoid'))\n",
    "\n",
    "    # Compile the model\n",
    "    model.compile(optimizer=Adam(learning_rate=0.001),\n",
    "                  loss='binary_crossentropy',\n",
    "                  metrics=['accuracy'])\n",
    "\n",
    "    return model\n"
   ]
  },
  {
   "cell_type": "code",
   "execution_count": 52,
   "metadata": {},
   "outputs": [],
   "source": [
    "def create_lstm_model(input_shape: tuple, dropout_rate: float = 0.5) -> tf.keras.Model:\n",
    "    \"\"\"\n",
    "    Creates an LSTM model for binary classification.\n",
    "\n",
    "    Parameters:\n",
    "    ----------\n",
    "    input_shape : tuple\n",
    "        The shape of the input data (timesteps, features).\n",
    "    dropout_rate : float, optional\n",
    "        The dropout rate to be used in Dropout layers to prevent overfitting (default is 0.5).\n",
    "\n",
    "    Returns:\n",
    "    -------\n",
    "    tf.keras.Model\n",
    "        A compiled LSTM model ready for training.\n",
    "    \"\"\"\n",
    "    model = Sequential()\n",
    "\n",
    "    # LSTM layer\n",
    "    model.add(LSTM(128, activation='relu', input_shape=input_shape))\n",
    "    model.add(BatchNormalization())\n",
    "    model.add(Dropout(dropout_rate))\n",
    "\n",
    "    model.add(LSTM(64, activation='relu', input_shape=input_shape))\n",
    "    model.add(BatchNormalization())\n",
    "    model.add(Dropout(dropout_rate))\n",
    "\n",
    "    # Dense hidden layer\n",
    "    model.add(Dense(32, activation='relu'))\n",
    "    model.add(BatchNormalization())\n",
    "    model.add(Dropout(dropout_rate))\n",
    "\n",
    "    # Output layer\n",
    "    model.add(Dense(1, activation='sigmoid'))\n",
    "\n",
    "    # Compile the model\n",
    "    model.compile(optimizer=Adam(learning_rate=0.001),\n",
    "                  loss='binary_crossentropy',\n",
    "                  metrics=['accuracy'], verbose=1)\n",
    "\n",
    "    return model\n"
   ]
  },
  {
   "cell_type": "code",
   "execution_count": 55,
   "metadata": {},
   "outputs": [],
   "source": [
    "# Logistic Regression Model and Hyperparameters\n",
    "lr_model = LogisticRegression(solver='liblinear')\n",
    "lr_param_grid = {\n",
    "    'C': [0.01, 0.1, 1, 10],\n",
    "    'penalty': ['l1', 'l2'],\n",
    "    'max_iter': [2000, 3000]  # Add max_iter as a hyperparameter to tune\n",
    "}\n",
    "\n",
    "# K-Nearest Neighbors Model and Hyperparameters\n",
    "knn_model = KNeighborsClassifier()\n",
    "knn_param_grid = {\n",
    "    'n_neighbors': [3, 5, 7, 9],\n",
    "    'weights': ['uniform', 'distance'],\n",
    "    'metric': ['euclidean', 'manhattan']\n",
    "}\n",
    "\n",
    "# Support Vector Machine Model and Hyperparameters\n",
    "svm_model = SVC(probability=True)\n",
    "svm_param_grid = {\n",
    "    'C': [0.1, 1, 10],\n",
    "    'kernel': ['linear', 'rbf', 'poly'],\n",
    "    'gamma': ['scale', 'auto'],\n",
    "    'degree': [2, 3, 4, 5],\n",
    "    'class_weight': [None, 'balanced']\n",
    "\n",
    "}\n",
    "\n",
    "# Random Forest Model and Hyperparameters\n",
    "rf_model = RandomForestClassifier(random_state=42)\n",
    "\n",
    "rf_param_grid = {\n",
    "    'n_estimators': [50, 100, 200],  # Number of trees in the forest\n",
    "    'max_depth': [3, 5, 7, 9],  # Maximum depth of the tree (None means nodes are expanded until all leaves are pure)\n",
    "    #'min_samples_split': [2, 5, 10],  # Minimum number of samples required to split an internal node\n",
    "    #'min_samples_leaf': [1, 2, 4],  # Minimum number of samples required to be at a leaf node\n",
    "    #'max_features': ['auto', 'sqrt', 'log2'],  # Number of features to consider when looking for the best split\n",
    "    #'bootstrap': [True, False],  # Whether bootstrap samples are used when building trees\n",
    "    #'class_weight': [None, 'balanced', 'balanced_subsample']  # Weighing of classes in case of class imbalance\n",
    "}\n",
    "\n",
    "xgb_model = xgb.XGBClassifier(tree_method = \"hist\", \n",
    "                              eval_metric='logloss',\n",
    "                              device = \"cuda\",  # Use GPU for training\n",
    "                              response_method = None\n",
    "                              )\n",
    "xgb_param_grid = {\n",
    "    'n_estimators': [50, 100, 150, 200],\n",
    "    'max_depth': [3, 5, 7, 9],\n",
    "    'learning_rate': [0.01, 0.1, 0.2],  # Learning rate\n",
    "    'alpha': [0, 0.5, 1],  # L1 regularization term on weights\n",
    "    'lambda': [0.5, 1, 1.5]  # L2 regularization term on weights\n",
    "}\n",
    "\n",
    "# HistGradientBoostingClassifier Model\n",
    "hgb_model = HistGradientBoostingClassifier(random_state=42)\n",
    "\n",
    "# Hyperparameter grid for HistGradientBoostingClassifier\n",
    "hgb_param_grid = {\n",
    "    'learning_rate': [0.01, 0.1, 0.2],  # Learning rate\n",
    "    'max_iter': [100, 200, 300],  # Number of boosting iterations\n",
    "    'max_depth': [3, 5, 7],  # Maximum depth of the tree\n",
    "    #'min_samples_leaf': [10, 20, 30],  # Minimum number of samples required to be at a leaf node\n",
    "    'l2_regularization': [0.0, 0.1, 0.5],  # L2 regularization strength\n",
    "    #'max_bins': [255, 511],  # Maximum number of bins used for discretizing features\n",
    "    'early_stopping': [True]\n",
    "}"
   ]
  },
  {
   "cell_type": "code",
   "execution_count": 56,
   "metadata": {},
   "outputs": [],
   "source": [
    "# Define scoring metrics\n",
    "accuracy_scorer = make_scorer(accuracy_score)\n",
    "precision_scorer = make_scorer(precision_score)\n",
    "f1_scorer = make_scorer(f1_score)\n",
    "roc_auc_scorer = make_scorer(roc_auc_score, greater_is_better=True, response_method='predict_proba')"
   ]
  },
  {
   "cell_type": "code",
   "execution_count": 57,
   "metadata": {},
   "outputs": [
    {
     "name": "stdout",
     "output_type": "stream",
     "text": [
      "Evaluating XGBoost...\n"
     ]
    }
   ],
   "source": [
    "# 10-fold cross-validation\n",
    "cv = KFold(n_splits=10, shuffle=True, random_state=42)\n",
    "\n",
    "# Combine the models and hyperparameters into a dictionary\n",
    "models = {\n",
    "    'XGBoost': (xgb_model, xgb_param_grid),\n",
    "    'HistGradientBoosting': (hgb_model, hgb_param_grid),\n",
    "    #'LSTM': (lstm_model, lstm_param_grid),\n",
    "    #'Neural Network': (dnn_model, dnn_param_grid),\n",
    "    'Logistic Regression': (lr_model, lr_param_grid),\n",
    "    'KNN': (knn_model, knn_param_grid),\n",
    "    'SVM': (svm_model, svm_param_grid),\n",
    "    'Random Forest': (rf_model, rf_param_grid),\n",
    "}\n",
    "\n",
    "results = {}\n",
    "best_params = {}\n",
    "\n",
    "for model_name, (model, param_grid) in models.items():\n",
    "    print(f\"Evaluating {model_name}...\")\n",
    "    \n",
    "    # Initialize HalvingGridSearchCV with the inner cross-validation and hyperparameter grid\n",
    "    grid_search = HalvingGridSearchCV(estimator=model, param_grid=param_grid, cv=cv, scoring=accuracy_scorer, verbose=0)\n",
    "        \n",
    "    # Fit the grid search on the whole dataset to get the best parameters\n",
    "    grid_search.fit(X, y)\n",
    "\n",
    "    # Get cross-validated score\n",
    "    cv_score = cross_val_score(grid_search.best_estimator_, X, y, cv=cv, scoring=accuracy_scorer)\n",
    "    \n",
    "    # Store the results and best parameters\n",
    "    results[model_name] = cv_score\n",
    "    best_params[model_name] = grid_search.best_params_\n",
    "    \n",
    "    print(f\"{model_name} - {accuracy_scorer._score_func.__name__}: {np.mean(cv_score):.4f} ± {np.std(cv_score):.4f}\")\n",
    "    print(f\"Best parameters for {model_name}: {grid_search.best_params_}\")"
   ]
  },
  {
   "cell_type": "code",
   "execution_count": null,
   "metadata": {},
   "outputs": [
    {
     "name": "stdout",
     "output_type": "stream",
     "text": [
      "Best parameters for XGBoost: {'max_depth': 3, 'n_estimators': 50}\n",
      "Best parameters for HistGradientBoosting: {'early_stopping': True, 'learning_rate': 0.01, 'max_depth': 3, 'max_iter': 200}\n",
      "Best parameters for Logistic Regression: {'C': 1, 'max_iter': 2000, 'penalty': 'l2'}\n",
      "Best parameters for KNN: {'metric': 'manhattan', 'n_neighbors': 9, 'weights': 'uniform'}\n",
      "Best parameters for SVM: {'C': 0.1, 'class_weight': None, 'degree': 3, 'gamma': 'auto', 'kernel': 'linear'}\n",
      "Best parameters for Random Forest: {'max_depth': 5, 'n_estimators': 200}\n"
     ]
    }
   ],
   "source": [
    "# Show the best parameters for each model\n",
    "for model_name, params in best_params.items():\n",
    "    print(f\"Best parameters for {model_name}: {params}\")"
   ]
  },
  {
   "cell_type": "code",
   "execution_count": null,
   "metadata": {},
   "outputs": [
    {
     "name": "stdout",
     "output_type": "stream",
     "text": [
      "\n",
      "Model Comparison accuracy_score:\n",
      "XGBoost: 0.7868 ± 0.0602\n",
      "HistGradientBoosting: 0.7895 ± 0.0496\n",
      "Logistic Regression: 0.8053 ± 0.0342\n",
      "KNN: 0.7711 ± 0.0404\n",
      "SVM: 0.8132 ± 0.0347\n",
      "Random Forest: 0.7961 ± 0.0441\n"
     ]
    }
   ],
   "source": [
    "# Compare models\n",
    "print(f\"\\nModel Comparison {accuracy_scorer._score_func.__name__}:\")\n",
    "for model_name, scores in results.items():\n",
    "    print(f\"{model_name}: {np.mean(scores):.4f} ± {np.std(scores):.4f}\")"
   ]
  },
  {
   "cell_type": "markdown",
   "metadata": {},
   "source": [
    "- First Run hyperparameters selection\n",
    "Best parameters for XGBoost: {'learning_rate': 0.1, 'max_depth': 3, 'n_estimators': 50}\n",
    "Best parameters for Logistic Regression: {'C': 0.1, 'penalty': 'l2'}\n",
    "Best parameters for KNN: {'metric': 'manhattan', 'n_neighbors': 9, 'weights': 'distance'}\n",
    "Best parameters for SVM: {'C': 0.1, 'gamma': 'scale', 'kernel': 'linear'}\n",
    "\n",
    "Model Comparison accuracy_score:\n",
    "XGBoost: 0.7740 ± 0.0378\n",
    "Logistic Regression: 0.8125 ± 0.0196\n",
    "KNN: 0.7634 ± 0.0317\n",
    "SVM: 0.8058 ± 0.0308\n",
    "\n",
    "- Second Run hyperparameters selection\n",
    "Best parameters for XGBoost: {'colsample_bytree': 0.6, 'learning_rate': 0.2, 'max_depth': 3, 'n_estimators': 200}\n",
    "Best parameters for Logistic Regression: {'C': 0.1, 'penalty': 'l2', 'solver': 'liblinear'}\n",
    "Best parameters for KNN: {'metric': 'manhattan', 'n_neighbors': 9, 'weights': 'distance'}\n",
    "Best parameters for SVM: {'C': 10, 'class_weight': 'balanced', 'degree': 2, 'gamma': 'scale', 'kernel': 'rbf'}\n",
    "\n",
    "Model Comparison accuracy_score:\n",
    "XGBoost: 0.7740 ± 0.0267\n",
    "Logistic Regression: 0.7966 ± 0.0281\n",
    "KNN: 0.7713 ± 0.0328\n",
    "SVM: 0.8125 ± 0.0233\n",
    "\n",
    "- Third Run\n",
    "Best parameters for XGBoost: {'max_depth': 3, 'n_estimators': 50}\n",
    "Best parameters for Logistic Regression: {'C': 1, 'penalty': 'l1', 'solver': 'liblinear'}\n",
    "Best parameters for KNN: {'metric': 'manhattan', 'n_neighbors': 5, 'weights': 'uniform'}\n",
    "Best parameters for SVM: {'C': 10, 'class_weight': None, 'degree': 3, 'gamma': 'scale', 'kernel': 'poly'}\n",
    "Best parameters for Random Forest: {'max_depth': 7, 'n_estimators': 200}\n",
    "\n",
    "Model Comparison accuracy_score:\n",
    "XGBoost: 0.7674 ± 0.0411\n",
    "Logistic Regression: 0.8125 ± 0.0218\n",
    "KNN: 0.7514 ± 0.0286\n",
    "SVM: 0.8125 ± 0.0306\n",
    "Random Forest: 0.7699 ± 0.0291\n",
    "\n",
    "- Fourth Run (feature scaling + maximum variance feature selected in clustering)\n",
    "Model Comparison accuracy_score:\n",
    "XGBoost: 0.5585 ± 0.0375\n",
    "Logistic Regression: 0.5851 ± 0.0096\n",
    "KNN: 0.5492 ± 0.0492\n",
    "SVM: 0.5664 ± 0.0405\n",
    "Random Forest: 0.5864 ± 0.0057"
   ]
  },
  {
   "cell_type": "markdown",
   "metadata": {},
   "source": [
    "### Ensamble learning"
   ]
  },
  {
   "cell_type": "code",
   "execution_count": null,
   "metadata": {},
   "outputs": [
    {
     "name": "stdout",
     "output_type": "stream",
     "text": [
      "Voting Classifier - accuracy_score: 0.8079 ± 0.0468\n"
     ]
    }
   ],
   "source": [
    "# Initialize the models with the best hyperparameters\n",
    "best_lr_model = LogisticRegression(**best_params['Logistic Regression'])\n",
    "best_knn_model = KNeighborsClassifier(**best_params['KNN'])\n",
    "best_svm_model = SVC(**best_params['SVM'], probability=True)\n",
    "best_rf_model = RandomForestClassifier(**best_params['Random Forest'])\n",
    "best_xgb_model = xgb.XGBClassifier(**best_params['XGBoost'])\n",
    "best_hgb_model = HistGradientBoostingClassifier(**best_params['HistGradientBoosting'])\n",
    "\n",
    "# Combine the models into a voting classifier\n",
    "voting_clf = VotingClassifier(estimators=[\n",
    "    ('lr', best_lr_model),\n",
    "    ('knn', best_knn_model),\n",
    "    ('svm', best_svm_model),\n",
    "    ('rf', best_rf_model),\n",
    "    ('xgb', best_xgb_model),\n",
    "    ('hgb', best_hgb_model)\n",
    "], voting='hard')  # 'soft' for probability-based voting, 'hard' for majority voting\n",
    "\n",
    "# Fit the voting classifier\n",
    "voting_clf.fit(X, y)\n",
    "\n",
    "# Evaluate the ensemble using cross-validation\n",
    "cv_scores = cross_val_score(voting_clf, X, y, cv=10, scoring=accuracy_scorer)\n",
    "print(f\"Voting Classifier - {accuracy_scorer._score_func.__name__}: {np.mean(cv_scores):.4f} ± {np.std(cv_scores):.4f}\")"
   ]
  }
 ],
 "metadata": {
  "kernelspec": {
   "display_name": "aifootballpredictions_notebooks",
   "language": "python",
   "name": "python3"
  },
  "language_info": {
   "codemirror_mode": {
    "name": "ipython",
    "version": 3
   },
   "file_extension": ".py",
   "mimetype": "text/x-python",
   "name": "python",
   "nbconvert_exporter": "python",
   "pygments_lexer": "ipython3",
   "version": "3.10.14"
  }
 },
 "nbformat": 4,
 "nbformat_minor": 2
}
